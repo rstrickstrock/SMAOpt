{
 "cells": [
  {
   "cell_type": "markdown",
   "id": "a12cb10a-06c3-4b14-9f02-4acfad49dcf1",
   "metadata": {},
   "source": [
    "# Check ranges of databases"
   ]
  },
  {
   "cell_type": "markdown",
   "id": "8f2fb034-601b-4f79-96d9-523e7a8c3558",
   "metadata": {},
   "source": [
    "## load libs"
   ]
  },
  {
   "cell_type": "code",
   "execution_count": 23,
   "id": "4dbd098a-35fc-48fc-aa68-8aea4467a500",
   "metadata": {},
   "outputs": [],
   "source": [
    "import pandas as pd\n",
    "import matplotlib.pyplot as plt"
   ]
  },
  {
   "cell_type": "markdown",
   "id": "ae02677b-5e06-4f7c-8a2b-037b68c24955",
   "metadata": {},
   "source": [
    "## load files"
   ]
  },
  {
   "cell_type": "code",
   "execution_count": 24,
   "id": "9f9bda25-9f60-45a6-b100-e3c444511ffa",
   "metadata": {},
   "outputs": [],
   "source": [
    "grid1296 = pd.read_csv(\"CLEANED_gridsearch_1296.csv\")\n",
    "grid1296 = grid1296.drop(grid1296.columns[0], axis=1)\n",
    "grid1296 = grid1296.drop(grid1296.columns[4], axis=1)\n",
    "\n",
    "grid2401 = pd.read_csv(\"CLEANED_gridsearch_2401.csv\")\n",
    "grid2401 = grid2401.drop(grid2401.columns[0], axis=1)\n",
    "grid2401 = grid2401.drop(grid2401.columns[4], axis=1)\n",
    "\n",
    "sobol2048 = pd.read_csv(\"CLEANED_sobolsampling-2048.csv\")\n",
    "sobol2048 = sobol2048.drop(sobol2048.columns[0], axis=1)\n",
    "sobol2048 = sobol2048.drop(sobol2048.columns[4], axis=1)"
   ]
  },
  {
   "cell_type": "code",
   "execution_count": 25,
   "id": "c2b92909-6c5e-4df0-bbc2-20d56400669d",
   "metadata": {},
   "outputs": [
    {
     "name": "stdout",
     "output_type": "stream",
     "text": [
      "       SigC    SigH    EpsC  EpsH\n",
      "0     0.075  0.0683  0.2465  0.03\n",
      "1     0.075  0.0683  0.2465  0.05\n",
      "2     0.075  0.0683  0.2465  0.07\n",
      "3     0.075  0.0683  0.2465  0.09\n",
      "4     0.075  0.0683  0.2465  0.11\n",
      "...     ...     ...     ...   ...\n",
      "1111  0.325  0.2958  0.4108  0.03\n",
      "1112  0.325  0.2958  0.5751  0.03\n",
      "1113  0.325  0.2958  0.7394  0.03\n",
      "1114  0.325  0.2958  0.9037  0.03\n",
      "1115  0.325  0.2958  1.0680  0.03\n",
      "\n",
      "[1116 rows x 4 columns]\n",
      "      SigC    SigH    EpsC  EpsH\n",
      "0     0.05  0.0455  0.1643  0.02\n",
      "1     0.05  0.0455  0.1643  0.04\n",
      "2     0.05  0.0455  0.1643  0.06\n",
      "3     0.05  0.0455  0.1643  0.08\n",
      "4     0.05  0.0455  0.1643  0.10\n",
      "...    ...     ...     ...   ...\n",
      "1758  0.35  0.2730  1.1501  0.02\n",
      "1759  0.35  0.2730  1.1501  0.04\n",
      "1760  0.35  0.2730  1.1501  0.06\n",
      "1761  0.35  0.2730  1.1501  0.08\n",
      "1762  0.35  0.2730  1.1501  0.10\n",
      "\n",
      "[1763 rows x 4 columns]\n",
      "          SigC      SigH      EpsC      EpsH\n",
      "0     0.329511  0.074231  1.036268  0.062599\n",
      "1     0.193948  0.136800  0.751676  0.037376\n",
      "2     0.230588  0.235899  0.596203  0.100129\n",
      "3     0.242166  0.148891  0.406759  0.087550\n",
      "4     0.128757  0.190416  0.989670  0.034993\n",
      "...        ...       ...       ...       ...\n",
      "2000  0.128595  0.136526  0.645525  0.075425\n",
      "2001  0.242035  0.235637  0.735539  0.137124\n",
      "2002  0.230760  0.148096  1.005841  0.111508\n",
      "2003  0.066912  0.095994  0.782125  0.108488\n",
      "2004  0.329646  0.259110  0.444702  0.043977\n",
      "\n",
      "[2005 rows x 4 columns]\n"
     ]
    }
   ],
   "source": [
    "print(f'{grid1296}')\n",
    "print(f'{grid2401}')\n",
    "print(f'{sobol2048}')"
   ]
  },
  {
   "cell_type": "markdown",
   "id": "cf67205c-b66b-4e5f-9ae8-7afff7cbfc24",
   "metadata": {},
   "source": [
    "## get min/max parameters"
   ]
  },
  {
   "cell_type": "code",
   "execution_count": 26,
   "id": "2ff6dc85-9ffd-464b-bc0b-92920626933e",
   "metadata": {},
   "outputs": [],
   "source": [
    "grid1296_min_sigc = min(grid1296[\"SigC\"].to_numpy())\n",
    "grid1296_max_sigc = max(grid1296[\"SigC\"].to_numpy())\n",
    "grid1296_min_sigh = min(grid1296[\"SigH\"].to_numpy())\n",
    "grid1296_max_sigh = max(grid1296[\"SigH\"].to_numpy())\n",
    "grid1296_min_epsc = min(grid1296[\"EpsC\"].to_numpy())\n",
    "grid1296_max_epsc = max(grid1296[\"EpsC\"].to_numpy())\n",
    "grid1296_min_epsh = min(grid1296[\"EpsH\"].to_numpy())\n",
    "grid1296_max_epsh = max(grid1296[\"EpsH\"].to_numpy())\n",
    "\n",
    "\n",
    "grid2401_min_sigc = min(grid2401[\"SigC\"].to_numpy())\n",
    "grid2401_max_sigc = max(grid2401[\"SigC\"].to_numpy())\n",
    "grid2401_min_sigh = min(grid2401[\"SigH\"].to_numpy())\n",
    "grid2401_max_sigh = max(grid2401[\"SigH\"].to_numpy())\n",
    "grid2401_min_epsc = min(grid2401[\"EpsC\"].to_numpy())\n",
    "grid2401_max_epsc = max(grid2401[\"EpsC\"].to_numpy())\n",
    "grid2401_min_epsh = min(grid2401[\"EpsH\"].to_numpy())\n",
    "grid2401_max_epsh = max(grid2401[\"EpsH\"].to_numpy())\n",
    "\n",
    "sobol2048_min_sigc = min(sobol2048[\"SigC\"].to_numpy())\n",
    "sobol2048_max_sigc = max(sobol2048[\"SigC\"].to_numpy())\n",
    "sobol2048_min_sigh = min(sobol2048[\"SigH\"].to_numpy())\n",
    "sobol2048_max_sigh = max(sobol2048[\"SigH\"].to_numpy())\n",
    "sobol2048_min_epsc = min(sobol2048[\"EpsC\"].to_numpy())\n",
    "sobol2048_max_epsc = max(sobol2048[\"EpsC\"].to_numpy())\n",
    "sobol2048_min_epsh = min(sobol2048[\"EpsH\"].to_numpy())\n",
    "sobol2048_max_epsh = max(sobol2048[\"EpsH\"].to_numpy())"
   ]
  },
  {
   "cell_type": "code",
   "execution_count": 22,
   "id": "53752282-fff9-46ad-9a91-31bf1bc6aecb",
   "metadata": {},
   "outputs": [
    {
     "name": "stdout",
     "output_type": "stream",
     "text": [
      "SigC\n",
      "min(grid1296) = 0.075\n",
      "min(grid2401) = 0.05\n",
      "min(sobol2048) = 0.05001931944862\n",
      "------------------------\n",
      "max(grid1296) = 0.325\n",
      "max(grid2401) = 0.35\n",
      "max(sobol2048) = 0.3499598791822791\n",
      "\n",
      "SigH\n",
      "min(grid1296) = 0.0683\n",
      "min(grid2401) = 0.0455\n",
      "min(sobol2048) = 0.0455624633841216\n",
      "------------------------\n",
      "max(grid1296) = 0.2958\n",
      "max(grid2401) = 0.273\n",
      "max(sobol2048) = 0.3184504657909274\n",
      "\n",
      "EpsC\n",
      "min(grid1296) = 0.2465\n",
      "min(grid2401) = 0.1643\n",
      "min(sobol2048) = 0.1645766265377402\n",
      "------------------------\n",
      "max(grid1296) = 1.068\n",
      "max(grid2401) = 1.1501\n",
      "max(sobol2048) = 1.150095973223075\n",
      "\n",
      "EpsC\n",
      "min(grid1296) = 0.03\n",
      "min(grid2401) = 0.02\n",
      "min(sobol2048) = 0.0200418855994939\n",
      "------------------------\n",
      "max(grid1296) = 0.13\n",
      "max(grid2401) = 0.14\n",
      "max(sobol2048) = 0.1399421586096287\n",
      "\n"
     ]
    }
   ],
   "source": [
    "print(f'SigC')\n",
    "print(f'min(grid1296) = {grid1296_min_sigc}')\n",
    "print(f'min(grid2401) = {grid2401_min_sigc}')\n",
    "print(f'min(sobol2048) = {sobol2048_min_sigc}')\n",
    "print(f'------------------------')\n",
    "print(f'max(grid1296) = {grid1296_max_sigc}')\n",
    "print(f'max(grid2401) = {grid2401_max_sigc}')\n",
    "print(f'max(sobol2048) = {sobol2048_max_sigc}\\n')\n",
    "\n",
    "print(f'SigH')\n",
    "print(f'min(grid1296) = {grid1296_min_sigh}')\n",
    "print(f'min(grid2401) = {grid2401_min_sigh}')\n",
    "print(f'min(sobol2048) = {sobol2048_min_sigh}')\n",
    "print(f'------------------------')\n",
    "print(f'max(grid1296) = {grid1296_max_sigh}')\n",
    "print(f'max(grid2401) = {grid2401_max_sigh}')\n",
    "print(f'max(sobol2048) = {sobol2048_max_sigh}\\n')\n",
    "\n",
    "print(f'EpsC')\n",
    "print(f'min(grid1296) = {grid1296_min_epsc}')\n",
    "print(f'min(grid2401) = {grid2401_min_epsc}')\n",
    "print(f'min(sobol2048) = {sobol2048_min_epsc}')\n",
    "print(f'------------------------')\n",
    "print(f'max(grid1296) = {grid1296_max_epsc}')\n",
    "print(f'max(grid2401) = {grid2401_max_epsc}')\n",
    "print(f'max(sobol2048) = {sobol2048_max_epsc}\\n')\n",
    "\n",
    "print(f'EpsC')\n",
    "print(f'min(grid1296) = {grid1296_min_epsh}')\n",
    "print(f'min(grid2401) = {grid2401_min_epsh}')\n",
    "print(f'min(sobol2048) = {sobol2048_min_epsh}')\n",
    "print(f'------------------------')\n",
    "print(f'max(grid1296) = {grid1296_max_epsh}')\n",
    "print(f'max(grid2401) = {grid2401_max_epsh}')\n",
    "print(f'max(sobol2048) = {sobol2048_max_epsh}\\n')"
   ]
  },
  {
   "cell_type": "markdown",
   "id": "ab11439c-a95a-4a1a-9ee0-c0f5254ecc78",
   "metadata": {},
   "source": [
    "Parameterspace: grid1296 < grid2401;\n",
    "                grid2401 = sobol2048;"
   ]
  },
  {
   "cell_type": "code",
   "execution_count": null,
   "id": "cea180cd-037a-4fc5-a74e-cd6bb1fe3850",
   "metadata": {},
   "outputs": [],
   "source": []
  }
 ],
 "metadata": {
  "kernelspec": {
   "display_name": "Python 3",
   "language": "python",
   "name": "python3"
  },
  "language_info": {
   "codemirror_mode": {
    "name": "ipython",
    "version": 3
   },
   "file_extension": ".py",
   "mimetype": "text/x-python",
   "name": "python",
   "nbconvert_exporter": "python",
   "pygments_lexer": "ipython3",
   "version": "3.11.5"
  }
 },
 "nbformat": 4,
 "nbformat_minor": 5
}
